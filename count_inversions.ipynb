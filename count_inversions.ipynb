{
 "cells": [
  {
   "cell_type": "markdown",
   "metadata": {},
   "source": [
    "# Counting inversions"
   ]
  },
  {
   "cell_type": "code",
   "execution_count": 1,
   "metadata": {},
   "outputs": [],
   "source": [
    "a = [1, 3, 2, 4, 6, 7, 5, 8]"
   ]
  },
  {
   "cell_type": "code",
   "execution_count": 4,
   "metadata": {},
   "outputs": [],
   "source": [
    "def count_merge(p, q, r, s):\n",
    "    if len(p) == 0:\n",
    "        return r + q, s\n",
    "    if len(q) == 0:\n",
    "        return r + p, s\n",
    "    if p[0] < q[0]:\n",
    "        r.append(p.pop(0))\n",
    "    else:\n",
    "        r.append(q.pop(0))\n",
    "        s += len(p)\n",
    "    return count_merge(p, q, r, s)\n",
    "\n",
    "\n",
    "def count_inversions(v):\n",
    "    n = len(v)\n",
    "    if n > 2:\n",
    "        p, r = count_inversions(v[: n // 2])\n",
    "        q, s = count_inversions(v[n // 2 :])\n",
    "        return count_merge(p, q, [], r+s)\n",
    "    elif n == 2:\n",
    "        if v[0] < v[1]:\n",
    "            return v, 0\n",
    "        else:\n",
    "            return v[::-1], 1\n",
    "    else:  # n == 1 or n == 0\n",
    "        return v, 0"
   ]
  },
  {
   "cell_type": "code",
   "execution_count": 5,
   "metadata": {},
   "outputs": [
    {
     "data": {
      "text/plain": [
       "([1, 2, 3, 4, 5, 6, 7, 8], 3)"
      ]
     },
     "execution_count": 5,
     "metadata": {},
     "output_type": "execute_result"
    }
   ],
   "source": [
    "count_inversions(a)"
   ]
  },
  {
   "cell_type": "code",
   "execution_count": 6,
   "metadata": {},
   "outputs": [
    {
     "data": {
      "text/plain": [
       "([1, 2, 3, 4, 5, 6, 7], 3)"
      ]
     },
     "execution_count": 6,
     "metadata": {},
     "output_type": "execute_result"
    }
   ],
   "source": [
    "count_inversions(a[:-1])"
   ]
  },
  {
   "cell_type": "code",
   "execution_count": null,
   "metadata": {},
   "outputs": [],
   "source": []
  }
 ],
 "metadata": {
  "kernelspec": {
   "display_name": "Python 3.10.8 64-bit",
   "language": "python",
   "name": "python3"
  },
  "language_info": {
   "codemirror_mode": {
    "name": "ipython",
    "version": 3
   },
   "file_extension": ".py",
   "mimetype": "text/x-python",
   "name": "python",
   "nbconvert_exporter": "python",
   "pygments_lexer": "ipython3",
   "version": "3.10.8"
  },
  "orig_nbformat": 4,
  "vscode": {
   "interpreter": {
    "hash": "b0fa6594d8f4cbf19f97940f81e996739fb7646882a419484c72d19e05852a7e"
   }
  }
 },
 "nbformat": 4,
 "nbformat_minor": 2
}
